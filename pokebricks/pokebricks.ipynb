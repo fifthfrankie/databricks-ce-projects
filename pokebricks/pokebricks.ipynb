{
 "cells": [
  {
   "cell_type": "markdown",
   "metadata": {
    "application/vnd.databricks.v1+cell": {
     "cellMetadata": {},
     "inputWidgets": {},
     "nuid": "6a8a6259-38bf-4926-b5fd-97839fab6ccd",
     "showTitle": false,
     "title": ""
    }
   },
   "source": [
    "#### Project Objective:\n",
    "\n",
    "Analyse the Pokémon dataset to determine which Pokémon types are best suited for battles based on aggregated combat statistics, and provide recommendations on the optimal team composition for competitive play."
   ]
  },
  {
   "cell_type": "code",
   "execution_count": 0,
   "metadata": {
    "application/vnd.databricks.v1+cell": {
     "cellMetadata": {
      "byteLimit": 2048000,
      "rowLimit": 10000
     },
     "inputWidgets": {},
     "nuid": "7c60094c-3b33-4da9-9712-c7e5ce9e4a92",
     "showTitle": false,
     "title": ""
    }
   },
   "outputs": [
    {
     "output_type": "stream",
     "name": "stdout",
     "output_type": "stream",
     "text": [
      "+---+--------------------+------+------+-----+---+------+-------+-------+-------+-----+----------+---------+\n|  #|                Name|Type 1|Type 2|Total| HP|Attack|Defense|Sp. Atk|Sp. Def|Speed|Generation|Legendary|\n+---+--------------------+------+------+-----+---+------+-------+-------+-------+-----+----------+---------+\n|  1|           Bulbasaur| Grass|Poison|  318| 45|    49|     49|     65|     65|   45|         1|    False|\n|  2|             Ivysaur| Grass|Poison|  405| 60|    62|     63|     80|     80|   60|         1|    False|\n|  3|            Venusaur| Grass|Poison|  525| 80|    82|     83|    100|    100|   80|         1|    False|\n|  3|VenusaurMega Venu...| Grass|Poison|  625| 80|   100|    123|    122|    120|   80|         1|    False|\n|  4|          Charmander|  Fire|  null|  309| 39|    52|     43|     60|     50|   65|         1|    False|\n+---+--------------------+------+------+-----+---+------+-------+-------+-------+-----+----------+---------+\nonly showing top 5 rows\n\n"
     ]
    }
   ],
   "source": [
    "# Load the Pokémon dataset from the uploaded CSV file in DBFS\n",
    "pokemon_df = spark.read.option(\"header\", \"true\").csv(\"dbfs:/FileStore/shared_uploads/fifthfrankie@gmail.com/Pokemon.csv\")\n",
    "pokemon_df.show(5)"
   ]
  },
  {
   "cell_type": "code",
   "execution_count": 0,
   "metadata": {
    "application/vnd.databricks.v1+cell": {
     "cellMetadata": {
      "byteLimit": 2048000,
      "rowLimit": 10000
     },
     "inputWidgets": {},
     "nuid": "5c3a711e-aafc-466c-83b6-83a4dfd66110",
     "showTitle": false,
     "title": ""
    }
   },
   "outputs": [
    {
     "output_type": "stream",
     "name": "stdout",
     "output_type": "stream",
     "text": [
      "root\n |-- #: string (nullable = true)\n |-- Name: string (nullable = true)\n |-- Type_1: string (nullable = true)\n |-- Type_2: string (nullable = true)\n |-- Total: integer (nullable = true)\n |-- HP: integer (nullable = true)\n |-- Attack: integer (nullable = true)\n |-- Defense: integer (nullable = true)\n |-- Sp_Atk: integer (nullable = true)\n |-- Sp_Def: integer (nullable = true)\n |-- Speed: integer (nullable = true)\n |-- Generation: string (nullable = true)\n |-- Legendary: string (nullable = true)\n\n+-------+------------------+----------------+------+------+------------------+------------------+-----------------+------------------+----------------+-----------------+------------------+------------------+---------+\n|summary|                 #|            Name|Type_1|Type_2|             Total|                HP|           Attack|           Defense|          Sp_Atk|           Sp_Def|             Speed|        Generation|Legendary|\n+-------+------------------+----------------+------+------+------------------+------------------+-----------------+------------------+----------------+-----------------+------------------+------------------+---------+\n|  count|               800|             800|   800|   414|               800|               800|              800|               800|             800|              800|               800|               800|      800|\n|   mean|         362.81375|            null|  null|  null|          435.1025|          69.25875|         79.00125|           73.8425|           72.82|          71.9025|           68.2775|           3.32375|     null|\n| stddev|208.34379756406656|            null|  null|  null|119.96303975551908|25.534669032332076|32.45736586949845|31.183500559332924|32.7222941688016|27.82891579711746|29.060473717161447|1.6612904004849451|     null|\n|    min|                 1|       Abomasnow|   Bug|   Bug|               180|                 1|                5|                 5|              10|               20|                 5|                 1|    False|\n|    max|                99|Zygarde50% Forme| Water| Water|               780|               255|              190|               230|             194|              230|               180|                 6|     True|\n+-------+------------------+----------------+------+------+------------------+------------------+-----------------+------------------+----------------+-----------------+------------------+------------------+---------+\n\n"
     ]
    }
   ],
   "source": [
    "from pyspark.sql.functions import col\n",
    "\n",
    "# Rename columns to remove spaces and dots for easier handling in Spark SQL\n",
    "pokemon_df = pokemon_df.withColumnRenamed(\"Sp. Atk\", \"Sp_Atk\")\n",
    "pokemon_df = pokemon_df.withColumnRenamed(\"Sp. Def\", \"Sp_Def\")\n",
    "pokemon_df = pokemon_df.withColumnRenamed(\"Type 1\", \"Type_1\")\n",
    "pokemon_df = pokemon_df.withColumnRenamed(\"Type 2\", \"Type_2\")\n",
    "\n",
    "# Convert numerical fields from string to integer\n",
    "numerical_cols = ['Total', 'HP', 'Attack', 'Defense', 'Sp_Atk', 'Sp_Def', 'Speed']\n",
    "for col_name in numerical_cols:\n",
    "    pokemon_df = pokemon_df.withColumn(col_name, col(col_name).cast(\"integer\"))\n",
    "\n",
    "# Handle missing values\n",
    "pokemon_df = pokemon_df.na.fill(value=0)\n",
    "\n",
    "# Show the schema to confirm changes\n",
    "pokemon_df.printSchema()\n",
    "pokemon_df.describe().show()"
   ]
  },
  {
   "cell_type": "code",
   "execution_count": 0,
   "metadata": {
    "application/vnd.databricks.v1+cell": {
     "cellMetadata": {
      "byteLimit": 2048000,
      "rowLimit": 10000
     },
     "inputWidgets": {},
     "nuid": "aa7c9c26-9345-44c5-b4fb-aec84bd732d1",
     "showTitle": false,
     "title": ""
    }
   },
   "outputs": [
    {
     "output_type": "stream",
     "name": "stdout",
     "output_type": "stream",
     "text": [
      "+--------+------------------+\n|  Type_1|  Avg_Combat_Power|\n+--------+------------------+\n|   Water|430.45535714285717|\n|  Poison|399.14285714285717|\n|   Steel| 487.7037037037037|\n|    Rock|            453.75|\n|     Ice| 433.4583333333333|\n|   Ghost|          439.5625|\n|   Fairy| 413.1764705882353|\n| Psychic|475.94736842105266|\n|  Dragon|         550.53125|\n|  Flying|             485.0|\n|     Bug|378.92753623188406|\n|Electric|443.40909090909093|\n|    Fire| 458.0769230769231|\n|  Ground|             437.5|\n|    Dark|  445.741935483871|\n|Fighting|416.44444444444446|\n|   Grass|421.14285714285717|\n|  Normal|401.68367346938777|\n+--------+------------------+\n\n"
     ]
    }
   ],
   "source": [
    "from pyspark.sql.functions import when, col\n",
    "\n",
    "# Calculate Combat Power using renamed and cleaned numerical columns\n",
    "pokemon_df = pokemon_df.withColumn(\n",
    "    \"Combat_Power\",\n",
    "    col(\"HP\") + col(\"Attack\") + col(\"Defense\") + col(\"Sp_Atk\") + col(\"Sp_Def\") + col(\"Speed\")\n",
    ")\n",
    "\n",
    "# Classify Pokémon into categories based on Combat Power\n",
    "pokemon_df = pokemon_df.withColumn(\n",
    "    \"Power_Category\",\n",
    "    when(col(\"Combat_Power\") > 500, \"High\")\n",
    "    .when(col(\"Combat_Power\") > 300, \"Medium\")\n",
    "    .otherwise(\"Low\")\n",
    ")\n",
    "\n",
    "# Calculate average Combat Power grouped by Type_1\n",
    "avg_combat_power_df = pokemon_df.groupBy(\"Type_1\").avg(\"Combat_Power\").withColumnRenamed(\"avg(Combat_Power)\", \"Avg_Combat_Power\")\n",
    "avg_combat_power_df.show()"
   ]
  },
  {
   "cell_type": "code",
   "execution_count": 0,
   "metadata": {
    "application/vnd.databricks.v1+cell": {
     "cellMetadata": {
      "byteLimit": 2048000,
      "rowLimit": 10000
     },
     "inputWidgets": {},
     "nuid": "7b7e0325-47e1-49f1-9fa1-29abad1fbb1d",
     "showTitle": false,
     "title": ""
    }
   },
   "outputs": [],
   "source": [
    "# Store the transformed dataset in Delta Lake\n",
    "pokemon_df.write.format(\"delta\").mode(\"overwrite\").save(\"/mnt/delta/pokemon_data\")"
   ]
  },
  {
   "cell_type": "code",
   "execution_count": 0,
   "metadata": {
    "application/vnd.databricks.v1+cell": {
     "cellMetadata": {
      "byteLimit": 2048000,
      "rowLimit": 10000
     },
     "inputWidgets": {},
     "nuid": "b0c7de42-690f-4810-a1e4-8fc378f2d78a",
     "showTitle": false,
     "title": ""
    }
   },
   "outputs": [
    {
     "output_type": "stream",
     "name": "stdout",
     "output_type": "stream",
     "text": [
      "+-------+------------------+\n| Type_1|  Avg_Combat_Power|\n+-------+------------------+\n| Dragon|         550.53125|\n|  Steel| 487.7037037037037|\n| Flying|             485.0|\n|Psychic|475.94736842105266|\n|   Fire| 458.0769230769231|\n+-------+------------------+\n\n"
     ]
    },
    {
     "output_type": "display_data",
     "data": {
      "text/html": [
       "<style scoped>\n",
       "  .table-result-container {\n",
       "    max-height: 300px;\n",
       "    overflow: auto;\n",
       "  }\n",
       "  table, th, td {\n",
       "    border: 1px solid black;\n",
       "    border-collapse: collapse;\n",
       "  }\n",
       "  th, td {\n",
       "    padding: 5px;\n",
       "  }\n",
       "  th {\n",
       "    text-align: left;\n",
       "  }\n",
       "</style><div class='table-result-container'><table class='table-result'><thead style='background-color: white'><tr><th>Type_1</th><th>Avg_Combat_Power</th></tr></thead><tbody><tr><td>Dragon</td><td>550.53125</td></tr><tr><td>Steel</td><td>487.7037037037037</td></tr><tr><td>Flying</td><td>485.0</td></tr><tr><td>Psychic</td><td>475.94736842105266</td></tr><tr><td>Fire</td><td>458.0769230769231</td></tr></tbody></table></div>"
      ]
     },
     "metadata": {
      "application/vnd.databricks.v1+output": {
       "addedWidgets": {},
       "aggData": [],
       "aggError": "",
       "aggOverflow": false,
       "aggSchema": [],
       "aggSeriesLimitReached": false,
       "aggType": "",
       "arguments": {},
       "columnCustomDisplayInfos": {},
       "data": [
        [
         "Dragon",
         550.53125
        ],
        [
         "Steel",
         487.7037037037037
        ],
        [
         "Flying",
         485.0
        ],
        [
         "Psychic",
         475.94736842105266
        ],
        [
         "Fire",
         458.0769230769231
        ]
       ],
       "datasetInfos": [],
       "dbfsResultPath": null,
       "isJsonSchema": true,
       "metadata": {},
       "overflow": false,
       "plotOptions": {
        "customPlotOptions": {},
        "displayType": "table",
        "pivotAggregation": null,
        "pivotColumns": null,
        "xColumns": null,
        "yColumns": null
       },
       "removedWidgets": [],
       "schema": [
        {
         "metadata": "{}",
         "name": "Type_1",
         "type": "\"string\""
        },
        {
         "metadata": "{}",
         "name": "Avg_Combat_Power",
         "type": "\"double\""
        }
       ],
       "type": "table"
      }
     },
     "output_type": "display_data"
    }
   ],
   "source": [
    "# Analyse - Fetch the top 5 Pokémon Types based on average Combat Power\n",
    "top_types_df = avg_combat_power_df.orderBy(col(\"Avg_Combat_Power\").desc()).limit(5)\n",
    "top_types_df.show()\n",
    "\n",
    "# Visualisation - Display the average Combat Power per Type using Databricks' display function\n",
    "display(top_types_df)"
   ]
  },
  {
   "cell_type": "code",
   "execution_count": 0,
   "metadata": {
    "application/vnd.databricks.v1+cell": {
     "cellMetadata": {},
     "inputWidgets": {},
     "nuid": "0eca145f-dac6-4dc0-b42c-ef1c25fa31e4",
     "showTitle": false,
     "title": ""
    }
   },
   "outputs": [],
   "source": []
  }
 ],
 "metadata": {
  "application/vnd.databricks.v1+notebook": {
   "dashboards": [],
   "language": "python",
   "notebookMetadata": {
    "pythonIndentUnit": 4
   },
   "notebookName": "Pokebricks",
   "widgets": {}
  }
 },
 "nbformat": 4,
 "nbformat_minor": 0
}
